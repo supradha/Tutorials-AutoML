{
 "cells": [
  {
   "cell_type": "code",
   "execution_count": 2,
   "metadata": {},
   "outputs": [
    {
     "name": "stdout",
     "output_type": "stream",
     "text": [
      "Checking whether there is an H2O instance running at http://localhost:54321 ..... not found.\n",
      "Attempting to start a local H2O server...\n",
      "  Java Version: openjdk version \"11.0.4\" 2019-07-16; OpenJDK Runtime Environment (build 11.0.4+11-post-Ubuntu-1ubuntu218.04.3); OpenJDK 64-Bit Server VM (build 11.0.4+11-post-Ubuntu-1ubuntu218.04.3, mixed mode, sharing)\n",
      "  Starting server from /home/supradha/anaconda3/lib/python3.7/site-packages/h2o/backend/bin/h2o.jar\n",
      "  Ice root: /tmp/tmpwsy8_laj\n",
      "  JVM stdout: /tmp/tmpwsy8_laj/h2o_supradha_started_from_python.out\n",
      "  JVM stderr: /tmp/tmpwsy8_laj/h2o_supradha_started_from_python.err\n",
      "  Server is running at http://127.0.0.1:54321\n",
      "Connecting to H2O server at http://127.0.0.1:54321 ... successful.\n"
     ]
    },
    {
     "data": {
      "text/html": [
       "<div style=\"overflow:auto\"><table style=\"width:50%\"><tr><td>H2O cluster uptime:</td>\n",
       "<td>02 secs</td></tr>\n",
       "<tr><td>H2O cluster timezone:</td>\n",
       "<td>Europe/Berlin</td></tr>\n",
       "<tr><td>H2O data parsing timezone:</td>\n",
       "<td>UTC</td></tr>\n",
       "<tr><td>H2O cluster version:</td>\n",
       "<td>3.26.0.3</td></tr>\n",
       "<tr><td>H2O cluster version age:</td>\n",
       "<td>18 days </td></tr>\n",
       "<tr><td>H2O cluster name:</td>\n",
       "<td>H2O_from_python_supradha_6nzlju</td></tr>\n",
       "<tr><td>H2O cluster total nodes:</td>\n",
       "<td>1</td></tr>\n",
       "<tr><td>H2O cluster free memory:</td>\n",
       "<td>964 Mb</td></tr>\n",
       "<tr><td>H2O cluster total cores:</td>\n",
       "<td>4</td></tr>\n",
       "<tr><td>H2O cluster allowed cores:</td>\n",
       "<td>4</td></tr>\n",
       "<tr><td>H2O cluster status:</td>\n",
       "<td>accepting new members, healthy</td></tr>\n",
       "<tr><td>H2O connection url:</td>\n",
       "<td>http://127.0.0.1:54321</td></tr>\n",
       "<tr><td>H2O connection proxy:</td>\n",
       "<td>None</td></tr>\n",
       "<tr><td>H2O internal security:</td>\n",
       "<td>False</td></tr>\n",
       "<tr><td>H2O API Extensions:</td>\n",
       "<td>Amazon S3, XGBoost, Algos, AutoML, Core V3, Core V4</td></tr>\n",
       "<tr><td>Python version:</td>\n",
       "<td>3.7.1 final</td></tr></table></div>"
      ],
      "text/plain": [
       "--------------------------  ---------------------------------------------------\n",
       "H2O cluster uptime:         02 secs\n",
       "H2O cluster timezone:       Europe/Berlin\n",
       "H2O data parsing timezone:  UTC\n",
       "H2O cluster version:        3.26.0.3\n",
       "H2O cluster version age:    18 days\n",
       "H2O cluster name:           H2O_from_python_supradha_6nzlju\n",
       "H2O cluster total nodes:    1\n",
       "H2O cluster free memory:    964 Mb\n",
       "H2O cluster total cores:    4\n",
       "H2O cluster allowed cores:  4\n",
       "H2O cluster status:         accepting new members, healthy\n",
       "H2O connection url:         http://127.0.0.1:54321\n",
       "H2O connection proxy:\n",
       "H2O internal security:      False\n",
       "H2O API Extensions:         Amazon S3, XGBoost, Algos, AutoML, Core V3, Core V4\n",
       "Python version:             3.7.1 final\n",
       "--------------------------  ---------------------------------------------------"
      ]
     },
     "metadata": {},
     "output_type": "display_data"
    }
   ],
   "source": [
    "#importing needed libraries\n",
    "import h2o\n",
    "from h2o.automl import H2OAutoML\n",
    "h2o.init()"
   ]
  },
  {
   "cell_type": "code",
   "execution_count": 3,
   "metadata": {},
   "outputs": [
    {
     "name": "stdout",
     "output_type": "stream",
     "text": [
      "Parse progress: |█████████████████████████████████████████████████████████| 100%\n",
      "Parse progress: |█████████████████████████████████████████████████████████| 100%\n"
     ]
    },
    {
     "data": {
      "text/html": [
       "<table>\n",
       "<thead>\n",
       "<tr><th>Loan_ID  </th><th>Gender  </th><th>Married  </th><th style=\"text-align: right;\">  Dependents</th><th>Education   </th><th>Self_Employed  </th><th style=\"text-align: right;\">  ApplicantIncome</th><th style=\"text-align: right;\">  CoapplicantIncome</th><th style=\"text-align: right;\">  LoanAmount</th><th style=\"text-align: right;\">  Loan_Amount_Term</th><th style=\"text-align: right;\">  Credit_History</th><th>Property_Area  </th><th>Loan_Status  </th></tr>\n",
       "</thead>\n",
       "<tbody>\n",
       "<tr><td>LP001002 </td><td>Male    </td><td>No       </td><td style=\"text-align: right;\">           0</td><td>Graduate    </td><td>No             </td><td style=\"text-align: right;\">             5849</td><td style=\"text-align: right;\">                  0</td><td style=\"text-align: right;\">         nan</td><td style=\"text-align: right;\">               360</td><td style=\"text-align: right;\">               1</td><td>Urban          </td><td>Y            </td></tr>\n",
       "<tr><td>LP001003 </td><td>Male    </td><td>Yes      </td><td style=\"text-align: right;\">           1</td><td>Graduate    </td><td>No             </td><td style=\"text-align: right;\">             4583</td><td style=\"text-align: right;\">               1508</td><td style=\"text-align: right;\">         128</td><td style=\"text-align: right;\">               360</td><td style=\"text-align: right;\">               1</td><td>Rural          </td><td>N            </td></tr>\n",
       "<tr><td>LP001005 </td><td>Male    </td><td>Yes      </td><td style=\"text-align: right;\">           0</td><td>Graduate    </td><td>Yes            </td><td style=\"text-align: right;\">             3000</td><td style=\"text-align: right;\">                  0</td><td style=\"text-align: right;\">          66</td><td style=\"text-align: right;\">               360</td><td style=\"text-align: right;\">               1</td><td>Urban          </td><td>Y            </td></tr>\n",
       "<tr><td>LP001006 </td><td>Male    </td><td>Yes      </td><td style=\"text-align: right;\">           0</td><td>Not Graduate</td><td>No             </td><td style=\"text-align: right;\">             2583</td><td style=\"text-align: right;\">               2358</td><td style=\"text-align: right;\">         120</td><td style=\"text-align: right;\">               360</td><td style=\"text-align: right;\">               1</td><td>Urban          </td><td>Y            </td></tr>\n",
       "<tr><td>LP001008 </td><td>Male    </td><td>No       </td><td style=\"text-align: right;\">           0</td><td>Graduate    </td><td>No             </td><td style=\"text-align: right;\">             6000</td><td style=\"text-align: right;\">                  0</td><td style=\"text-align: right;\">         141</td><td style=\"text-align: right;\">               360</td><td style=\"text-align: right;\">               1</td><td>Urban          </td><td>Y            </td></tr>\n",
       "<tr><td>LP001011 </td><td>Male    </td><td>Yes      </td><td style=\"text-align: right;\">           2</td><td>Graduate    </td><td>Yes            </td><td style=\"text-align: right;\">             5417</td><td style=\"text-align: right;\">               4196</td><td style=\"text-align: right;\">         267</td><td style=\"text-align: right;\">               360</td><td style=\"text-align: right;\">               1</td><td>Urban          </td><td>Y            </td></tr>\n",
       "<tr><td>LP001013 </td><td>Male    </td><td>Yes      </td><td style=\"text-align: right;\">           0</td><td>Not Graduate</td><td>No             </td><td style=\"text-align: right;\">             2333</td><td style=\"text-align: right;\">               1516</td><td style=\"text-align: right;\">          95</td><td style=\"text-align: right;\">               360</td><td style=\"text-align: right;\">               1</td><td>Urban          </td><td>Y            </td></tr>\n",
       "<tr><td>LP001014 </td><td>Male    </td><td>Yes      </td><td style=\"text-align: right;\">         nan</td><td>Graduate    </td><td>No             </td><td style=\"text-align: right;\">             3036</td><td style=\"text-align: right;\">               2504</td><td style=\"text-align: right;\">         158</td><td style=\"text-align: right;\">               360</td><td style=\"text-align: right;\">               0</td><td>Semiurban      </td><td>N            </td></tr>\n",
       "<tr><td>LP001018 </td><td>Male    </td><td>Yes      </td><td style=\"text-align: right;\">           2</td><td>Graduate    </td><td>No             </td><td style=\"text-align: right;\">             4006</td><td style=\"text-align: right;\">               1526</td><td style=\"text-align: right;\">         168</td><td style=\"text-align: right;\">               360</td><td style=\"text-align: right;\">               1</td><td>Urban          </td><td>Y            </td></tr>\n",
       "<tr><td>LP001020 </td><td>Male    </td><td>Yes      </td><td style=\"text-align: right;\">           1</td><td>Graduate    </td><td>No             </td><td style=\"text-align: right;\">            12841</td><td style=\"text-align: right;\">              10968</td><td style=\"text-align: right;\">         349</td><td style=\"text-align: right;\">               360</td><td style=\"text-align: right;\">               1</td><td>Semiurban      </td><td>N            </td></tr>\n",
       "</tbody>\n",
       "</table>"
      ]
     },
     "metadata": {},
     "output_type": "display_data"
    },
    {
     "data": {
      "text/plain": []
     },
     "execution_count": 3,
     "metadata": {},
     "output_type": "execute_result"
    }
   ],
   "source": [
    "#importing dataset\n",
    "df = h2o.import_file('Downloads/loan-prediction-problem-dataset/train_set.csv')\n",
    "dftest = h2o.import_file('Downloads/loan-prediction-problem-dataset/train_set.csv')\n",
    "df.head()"
   ]
  },
  {
   "cell_type": "code",
   "execution_count": 4,
   "metadata": {},
   "outputs": [
    {
     "name": "stdout",
     "output_type": "stream",
     "text": [
      "Rows:614\n",
      "Cols:13\n",
      "\n",
      "\n"
     ]
    },
    {
     "data": {
      "text/html": [
       "<table>\n",
       "<thead>\n",
       "<tr><th>       </th><th>Loan_ID  </th><th>Gender  </th><th>Married  </th><th>Dependents        </th><th>Education   </th><th>Self_Employed  </th><th>ApplicantIncome   </th><th>CoapplicantIncome  </th><th>LoanAmount        </th><th>Loan_Amount_Term  </th><th>Credit_History    </th><th>Property_Area  </th><th>Loan_Status  </th></tr>\n",
       "</thead>\n",
       "<tbody>\n",
       "<tr><td>type   </td><td>string   </td><td>enum    </td><td>enum     </td><td>int               </td><td>enum        </td><td>enum           </td><td>int               </td><td>real               </td><td>int               </td><td>int               </td><td>int               </td><td>enum           </td><td>enum         </td></tr>\n",
       "<tr><td>mins   </td><td>NaN      </td><td>        </td><td>         </td><td>0.0               </td><td>            </td><td>               </td><td>150.0             </td><td>0.0                </td><td>9.0               </td><td>12.0              </td><td>0.0               </td><td>               </td><td>             </td></tr>\n",
       "<tr><td>mean   </td><td>NaN      </td><td>        </td><td>         </td><td>0.5547445255474461</td><td>            </td><td>               </td><td>5403.4592833876195</td><td>1621.2457980270997 </td><td>146.41216216216225</td><td>342.0             </td><td>0.8421985815602837</td><td>               </td><td>             </td></tr>\n",
       "<tr><td>maxs   </td><td>NaN      </td><td>        </td><td>         </td><td>2.0               </td><td>            </td><td>               </td><td>81000.0           </td><td>41667.0            </td><td>700.0             </td><td>480.0             </td><td>1.0               </td><td>               </td><td>             </td></tr>\n",
       "<tr><td>sigma  </td><td>NaN      </td><td>        </td><td>         </td><td>0.785328986167431 </td><td>            </td><td>               </td><td>6109.041673387181 </td><td>2926.2483692241894 </td><td>85.58732523570545 </td><td>65.12040985461256 </td><td>0.3648783192364048</td><td>               </td><td>             </td></tr>\n",
       "<tr><td>zeros  </td><td>0        </td><td>        </td><td>         </td><td>345               </td><td>            </td><td>               </td><td>0                 </td><td>273                </td><td>0                 </td><td>0                 </td><td>89                </td><td>               </td><td>             </td></tr>\n",
       "<tr><td>missing</td><td>0        </td><td>13      </td><td>3        </td><td>66                </td><td>0           </td><td>32             </td><td>0                 </td><td>0                  </td><td>22                </td><td>14                </td><td>50                </td><td>0              </td><td>0            </td></tr>\n",
       "<tr><td>0      </td><td>LP001002 </td><td>Male    </td><td>No       </td><td>0.0               </td><td>Graduate    </td><td>No             </td><td>5849.0            </td><td>0.0                </td><td>nan               </td><td>360.0             </td><td>1.0               </td><td>Urban          </td><td>Y            </td></tr>\n",
       "<tr><td>1      </td><td>LP001003 </td><td>Male    </td><td>Yes      </td><td>1.0               </td><td>Graduate    </td><td>No             </td><td>4583.0            </td><td>1508.0             </td><td>128.0             </td><td>360.0             </td><td>1.0               </td><td>Rural          </td><td>N            </td></tr>\n",
       "<tr><td>2      </td><td>LP001005 </td><td>Male    </td><td>Yes      </td><td>0.0               </td><td>Graduate    </td><td>Yes            </td><td>3000.0            </td><td>0.0                </td><td>66.0              </td><td>360.0             </td><td>1.0               </td><td>Urban          </td><td>Y            </td></tr>\n",
       "<tr><td>3      </td><td>LP001006 </td><td>Male    </td><td>Yes      </td><td>0.0               </td><td>Not Graduate</td><td>No             </td><td>2583.0            </td><td>2358.0             </td><td>120.0             </td><td>360.0             </td><td>1.0               </td><td>Urban          </td><td>Y            </td></tr>\n",
       "<tr><td>4      </td><td>LP001008 </td><td>Male    </td><td>No       </td><td>0.0               </td><td>Graduate    </td><td>No             </td><td>6000.0            </td><td>0.0                </td><td>141.0             </td><td>360.0             </td><td>1.0               </td><td>Urban          </td><td>Y            </td></tr>\n",
       "<tr><td>5      </td><td>LP001011 </td><td>Male    </td><td>Yes      </td><td>2.0               </td><td>Graduate    </td><td>Yes            </td><td>5417.0            </td><td>4196.0             </td><td>267.0             </td><td>360.0             </td><td>1.0               </td><td>Urban          </td><td>Y            </td></tr>\n",
       "<tr><td>6      </td><td>LP001013 </td><td>Male    </td><td>Yes      </td><td>0.0               </td><td>Not Graduate</td><td>No             </td><td>2333.0            </td><td>1516.0             </td><td>95.0              </td><td>360.0             </td><td>1.0               </td><td>Urban          </td><td>Y            </td></tr>\n",
       "<tr><td>7      </td><td>LP001014 </td><td>Male    </td><td>Yes      </td><td>nan               </td><td>Graduate    </td><td>No             </td><td>3036.0            </td><td>2504.0             </td><td>158.0             </td><td>360.0             </td><td>0.0               </td><td>Semiurban      </td><td>N            </td></tr>\n",
       "<tr><td>8      </td><td>LP001018 </td><td>Male    </td><td>Yes      </td><td>2.0               </td><td>Graduate    </td><td>No             </td><td>4006.0            </td><td>1526.0             </td><td>168.0             </td><td>360.0             </td><td>1.0               </td><td>Urban          </td><td>Y            </td></tr>\n",
       "<tr><td>9      </td><td>LP001020 </td><td>Male    </td><td>Yes      </td><td>1.0               </td><td>Graduate    </td><td>No             </td><td>12841.0           </td><td>10968.0            </td><td>349.0             </td><td>360.0             </td><td>1.0               </td><td>Semiurban      </td><td>N            </td></tr>\n",
       "</tbody>\n",
       "</table>"
      ]
     },
     "metadata": {},
     "output_type": "display_data"
    }
   ],
   "source": [
    "df.describe()"
   ]
  },
  {
   "cell_type": "code",
   "execution_count": 5,
   "metadata": {},
   "outputs": [],
   "source": [
    "#identifying the output variable and input variables\n",
    "y = \"Loan_Status\"\n",
    "x = ['Gender','Married','Education','ApplicantIncome',\n",
    "    'LoanAmount','CoapplicantIncome','Loan_Amount_Term',\n",
    "    'Credit_History','Property_Area']\n",
    "df[y]=df[y].asfactor()"
   ]
  },
  {
   "cell_type": "code",
   "execution_count": 6,
   "metadata": {},
   "outputs": [
    {
     "name": "stdout",
     "output_type": "stream",
     "text": [
      "AutoML progress: |████████████████████████████████████████████████████████| 100%\n"
     ]
    }
   ],
   "source": [
    "#run AutoML\n",
    "aml = H2OAutoML(max_models = 10, max_runtime_secs=300, seed = 1)\n",
    "aml.train(x = x, y = y, training_frame = df)"
   ]
  },
  {
   "cell_type": "code",
   "execution_count": 7,
   "metadata": {},
   "outputs": [
    {
     "data": {
      "text/html": [
       "<table>\n",
       "<thead>\n",
       "<tr><th>model_id                                           </th><th style=\"text-align: right;\">     auc</th><th style=\"text-align: right;\">  logloss</th><th style=\"text-align: right;\">  mean_per_class_error</th><th style=\"text-align: right;\">    rmse</th><th style=\"text-align: right;\">     mse</th></tr>\n",
       "</thead>\n",
       "<tbody>\n",
       "<tr><td>DRF_1_AutoML_20190911_195356                       </td><td style=\"text-align: right;\">0.778319</td><td style=\"text-align: right;\"> 0.71234 </td><td style=\"text-align: right;\">              0.298307</td><td style=\"text-align: right;\">0.398046</td><td style=\"text-align: right;\">0.158441</td></tr>\n",
       "<tr><td>StackedEnsemble_BestOfFamily_AutoML_20190911_195356</td><td style=\"text-align: right;\">0.771321</td><td style=\"text-align: right;\"> 0.474322</td><td style=\"text-align: right;\">              0.292148</td><td style=\"text-align: right;\">0.388333</td><td style=\"text-align: right;\">0.150803</td></tr>\n",
       "<tr><td>StackedEnsemble_AllModels_AutoML_20190911_195356   </td><td style=\"text-align: right;\">0.771234</td><td style=\"text-align: right;\"> 0.474498</td><td style=\"text-align: right;\">              0.292148</td><td style=\"text-align: right;\">0.388472</td><td style=\"text-align: right;\">0.150911</td></tr>\n",
       "<tr><td>XGBoost_2_AutoML_20190911_195356                   </td><td style=\"text-align: right;\">0.769963</td><td style=\"text-align: right;\"> 0.494983</td><td style=\"text-align: right;\">              0.297356</td><td style=\"text-align: right;\">0.399111</td><td style=\"text-align: right;\">0.15929 </td></tr>\n",
       "<tr><td>GBM_1_AutoML_20190911_195356                       </td><td style=\"text-align: right;\">0.766946</td><td style=\"text-align: right;\"> 0.495518</td><td style=\"text-align: right;\">              0.308958</td><td style=\"text-align: right;\">0.397398</td><td style=\"text-align: right;\">0.157925</td></tr>\n",
       "<tr><td>XGBoost_1_AutoML_20190911_195356                   </td><td style=\"text-align: right;\">0.762286</td><td style=\"text-align: right;\"> 0.480405</td><td style=\"text-align: right;\">              0.294752</td><td style=\"text-align: right;\">0.392338</td><td style=\"text-align: right;\">0.153929</td></tr>\n",
       "<tr><td>GLM_grid_1_AutoML_20190911_195356_model_1          </td><td style=\"text-align: right;\">0.757559</td><td style=\"text-align: right;\"> 0.477322</td><td style=\"text-align: right;\">              0.292148</td><td style=\"text-align: right;\">0.389396</td><td style=\"text-align: right;\">0.151629</td></tr>\n",
       "<tr><td>GBM_2_AutoML_20190911_195356                       </td><td style=\"text-align: right;\">0.756504</td><td style=\"text-align: right;\"> 0.498084</td><td style=\"text-align: right;\">              0.299726</td><td style=\"text-align: right;\">0.3983  </td><td style=\"text-align: right;\">0.158643</td></tr>\n",
       "<tr><td>GBM_3_AutoML_20190911_195356                       </td><td style=\"text-align: right;\">0.753573</td><td style=\"text-align: right;\"> 0.502738</td><td style=\"text-align: right;\">              0.298541</td><td style=\"text-align: right;\">0.399517</td><td style=\"text-align: right;\">0.159614</td></tr>\n",
       "<tr><td>GBM_4_AutoML_20190911_195356                       </td><td style=\"text-align: right;\">0.752215</td><td style=\"text-align: right;\"> 0.507388</td><td style=\"text-align: right;\">              0.292864</td><td style=\"text-align: right;\">0.403483</td><td style=\"text-align: right;\">0.162798</td></tr>\n",
       "</tbody>\n",
       "</table>"
      ]
     },
     "metadata": {},
     "output_type": "display_data"
    },
    {
     "data": {
      "text/plain": []
     },
     "execution_count": 7,
     "metadata": {},
     "output_type": "execute_result"
    }
   ],
   "source": [
    "aml.leaderboard"
   ]
  },
  {
   "cell_type": "code",
   "execution_count": 9,
   "metadata": {},
   "outputs": [
    {
     "name": "stdout",
     "output_type": "stream",
     "text": [
      "drf prediction progress: |████████████████████████████████████████████████| 100%\n"
     ]
    },
    {
     "data": {
      "text/html": [
       "<table>\n",
       "<thead>\n",
       "<tr><th>predict  </th><th style=\"text-align: right;\">         N</th><th style=\"text-align: right;\">        Y</th></tr>\n",
       "</thead>\n",
       "<tbody>\n",
       "<tr><td>Y        </td><td style=\"text-align: right;\">0.295154  </td><td style=\"text-align: right;\">0.704846 </td></tr>\n",
       "<tr><td>Y        </td><td style=\"text-align: right;\">0.651064  </td><td style=\"text-align: right;\">0.348936 </td></tr>\n",
       "<tr><td>Y        </td><td style=\"text-align: right;\">0.0871992 </td><td style=\"text-align: right;\">0.912801 </td></tr>\n",
       "<tr><td>Y        </td><td style=\"text-align: right;\">0.00209278</td><td style=\"text-align: right;\">0.997907 </td></tr>\n",
       "<tr><td>Y        </td><td style=\"text-align: right;\">0.0212766 </td><td style=\"text-align: right;\">0.978723 </td></tr>\n",
       "<tr><td>Y        </td><td style=\"text-align: right;\">0.229752  </td><td style=\"text-align: right;\">0.770248 </td></tr>\n",
       "<tr><td>Y        </td><td style=\"text-align: right;\">0.00209278</td><td style=\"text-align: right;\">0.997907 </td></tr>\n",
       "<tr><td>N        </td><td style=\"text-align: right;\">0.974468  </td><td style=\"text-align: right;\">0.0255319</td></tr>\n",
       "<tr><td>Y        </td><td style=\"text-align: right;\">0.0659226 </td><td style=\"text-align: right;\">0.934077 </td></tr>\n",
       "<tr><td>N        </td><td style=\"text-align: right;\">0.861702  </td><td style=\"text-align: right;\">0.138298 </td></tr>\n",
       "</tbody>\n",
       "</table>"
      ]
     },
     "metadata": {},
     "output_type": "display_data"
    },
    {
     "data": {
      "text/plain": []
     },
     "execution_count": 9,
     "metadata": {},
     "output_type": "execute_result"
    }
   ],
   "source": [
    "#predicted output\n",
    "preds = aml.predict(dftest)\n",
    "preds.head()"
   ]
  },
  {
   "cell_type": "code",
   "execution_count": 8,
   "metadata": {},
   "outputs": [
    {
     "data": {
      "text/plain": [
       "'/home/supradha/Loan_Pred_Model_III_shaz13/DRF_1_AutoML_20190911_142058'"
      ]
     },
     "execution_count": 8,
     "metadata": {},
     "output_type": "execute_result"
    }
   ],
   "source": [
    "#save model\n",
    "h2o.save_model(aml.leader, path = \"./Loan_Pred_Model_III_shaz13\")"
   ]
  }
 ],
 "metadata": {
  "kernelspec": {
   "display_name": "Python 3",
   "language": "python",
   "name": "python3"
  },
  "language_info": {
   "codemirror_mode": {
    "name": "ipython",
    "version": 3
   },
   "file_extension": ".py",
   "mimetype": "text/x-python",
   "name": "python",
   "nbconvert_exporter": "python",
   "pygments_lexer": "ipython3",
   "version": "3.7.1"
  }
 },
 "nbformat": 4,
 "nbformat_minor": 2
}
